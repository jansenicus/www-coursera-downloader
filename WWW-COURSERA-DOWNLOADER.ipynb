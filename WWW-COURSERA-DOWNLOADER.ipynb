{
 "cells": [
  {
   "cell_type": "markdown",
   "metadata": {},
   "source": [
    "<div style=\"background-color:royalblue\">\n",
    "<img src=\"https://d3njjcbhbojbot.cloudfront.net/web/bundles/userModal/images/coursera-logo.svg\">\n",
    "</div>    \n",
    "\n",
    "# <b style=\"color:#3b5998\">www-coursera-downloader</b>\n",
    "\n",
    "- this notebook release: 201600710\n",
    "- notebook features: \n",
    "  - fixed bug in quiz downloader\n",
    "  - html reading downloader\n",
    "  - video downloader\n",
    "  - creation of m3u playlist\n",
    "  - added  <b style=\"color:#3b5998\">colorful</b> heading and images\n",
    "  - added section `download another course?`\n",
    "  - handle courses with only `Preview Week 1`\n",
    "  - added TOC\n",
    "  - handle subtitle not available\n",
    "  - separation of quiz downloader\n",
    "  - handle 16 weeks course\n",
    "\n",
    "(c) Jansen Simanullang, 2016-2018.\n",
    "\n",
    "## <div align='center'><a href='#toc'><b style='color:#3b5998'>TABLE OF CONTENTS</b></a></div>\n",
    "### <a href='#all'><b style=\"color:#3b5998\">A. All Required Software</b></a>\n",
    "### <a href='#before'><b style=\"color:#3b5998\">B. Before Login</b></a>\n",
    "### <a href='#coursera'><b style=\"color:#3b5998\">C. Coursera</b></a>\n",
    "### <a href='#download'><b style=\"color:#3b5998\">D. Download Another Course?</b></a>\n",
    "### <a href='#error'><b style=\"color:#3b5998\">E. Error Checking</b></a>\n",
    "### <a href='#finally'><b style=\"color:#3b5998\">F. Finally Close the Browser</b></a>\n",
    "### <a href='#goodbye'><b style=\"color:#3b5998\">G. Go Back to Login</a></b>"
   ]
  },
  {
   "cell_type": "markdown",
   "metadata": {},
   "source": [
    "## <a name = 'all'><b style='color:#3b5998'>A. All Required Softwares</b></a>\n",
    "\n",
    "Run once to install all required software."
   ]
  },
  {
   "cell_type": "markdown",
   "metadata": {},
   "source": [
    "### <b style='color:#3b5998'>(1) Install Mozilla Geckodriver</b>\n",
    "<img src=\"https://avatars2.githubusercontent.com/u/131524?s=200&v=4\" width=\"75\" height=\"75\" alt=\"@mozilla\" align=\"center\"><br>\n",
    "<li>Install [Mozilla Geckodriver](https://github.com/mozilla/geckodriver/releases/)\n",
    "</li>"
   ]
  },
  {
   "cell_type": "markdown",
   "metadata": {},
   "source": [
    "#### <b style=\"color:royalblue\">Check Geckodriver version</b>"
   ]
  },
  {
   "cell_type": "code",
   "execution_count": null,
   "metadata": {},
   "outputs": [],
   "source": [
    "!echo Checking geckodriver version...\n",
    "!geckodriver --version"
   ]
  },
  {
   "cell_type": "markdown",
   "metadata": {},
   "source": [
    "### <b style=\"color:#3b5998\">(2) Install Some Python Packages</b>\n",
    "<img src=\"https://pypi.org/static/images/logo-small.6eef541e.svg\">"
   ]
  },
  {
   "cell_type": "code",
   "execution_count": null,
   "metadata": {},
   "outputs": [],
   "source": [
    "!pip install -q jupyter_contrib_nbextensions jupyter_nbextensions_configurator\n",
    "!pip install -q bs4 mutagen pillow requests splinter\n",
    "!jupyter contrib nbextension install --user\n",
    "!jupyter nbextensions_configurator enable --user\n",
    "!jupyter nbextension enable python-markdown/main"
   ]
  },
  {
   "cell_type": "markdown",
   "metadata": {},
   "source": [
    "## <a name='before'><b style=\"color:#3b5998\">B. Before Login</b></a>"
   ]
  },
  {
   "cell_type": "markdown",
   "metadata": {},
   "source": [
    "### <b style=\"color:#3b5998\">B. 1 Python Package Imports</b>"
   ]
  },
  {
   "cell_type": "code",
   "execution_count": null,
   "metadata": {},
   "outputs": [],
   "source": [
    "from splinter import Browser\n",
    "import base64, getpass, json, os, re, requests, sys, time\n",
    "from bs4 import BeautifulSoup\n",
    "from mutagen.mp4 import MP4"
   ]
  },
  {
   "cell_type": "markdown",
   "metadata": {},
   "source": [
    "### <b style=\"color:royalblue\">B. 2 Some Constants</b>"
   ]
  },
  {
   "cell_type": "code",
   "execution_count": null,
   "metadata": {},
   "outputs": [],
   "source": [
    "# LOADING TIME\n",
    "# WARNING: this will impact your user experience!\n",
    "# adjust loading time according to your network speed!\n",
    "# loading time in seconds\n",
    "\n",
    "loading_time = 5\n",
    "\n",
    "# HOMEPAGE\n",
    "homepage='https://www.coursera.org'\n",
    "\n",
    "# VIDEO RESOLUTION\n",
    "# available resolution:\n",
    "# 'hi', 'low' or 'med'\n",
    "# choose according to your preference\n",
    "resolution = {'low':'360','med':'540','hi':'720'}\n",
    "chosen_res = 'hi'\n",
    "\n",
    "# INITIAL DIRECTORY\n",
    "initial_dirname = os.getcwd()"
   ]
  },
  {
   "cell_type": "markdown",
   "metadata": {},
   "source": [
    "###  <b style=\"color:royalblue\">B.3 Helper Functions</b>\n",
    "\n",
    "<img src=\"https://www.3di.co.uk/wp-content/uploads/2016/06/Define.png\" height=\"150\" width=\"250\">"
   ]
  },
  {
   "cell_type": "code",
   "execution_count": null,
   "metadata": {},
   "outputs": [],
   "source": [
    "def safe_text(str_text):\n",
    "    erasable = [':','/']\n",
    "    for e in erasable:   \n",
    "        str_text = str_text.replace(e, ' ')  \n",
    "    while '  ' in str_text:\n",
    "        str_text = str_text.replace('  ',' ')\n",
    "    return str_text\n",
    "\n",
    "def create_download_dir(dirname):\n",
    "    \n",
    "    dirname = safe_text(dirname)\n",
    "    \n",
    "    try:\n",
    "        os.mkdir(dirname)\n",
    "    except:\n",
    "        pass\n",
    "    \n",
    "    os.chdir(dirname)\n",
    "    print(os.getcwd())\n",
    "\n",
    "# SCREENSHOT\n",
    "def screenshot():\n",
    "    browser.driver.save_screenshot('screenshot.png')\n",
    "    from PIL import Image\n",
    "    return Image.open('screenshot.png')\n",
    "\n",
    "# button click\n",
    "def button_click(text_):\n",
    "    try:\n",
    "        buttons = browser.find_by_css('button')\n",
    "        for button in buttons:\n",
    "            if button.text == text_:\n",
    "                print(text_)\n",
    "                button.click()\n",
    "                break\n",
    "    except:\n",
    "        pass\n",
    "\n",
    "# cjson helper functions\n",
    "\n",
    "def encode_cjson(text):\n",
    "    return base64.b64encode(bytes(str(text), \"utf-8\"))\n",
    "\n",
    "def save_cjson(text):\n",
    "    text = encode_cjson(text)\n",
    "    with open('coursera.json','wb+') as f:\n",
    "        f.write(bytes(str(text),\"utf-8\"))\n",
    "    f.close()\n",
    "\n",
    "def read_cjson():\n",
    "    \n",
    "    if os.path.isfile('coursera.json'):\n",
    "        with open('coursera.json','rb') as f:\n",
    "            a = f.read()\n",
    "        f.close()\n",
    "    else:\n",
    "        print('credential file not found')\n",
    "    return str(a).split(\"'\")[1]\n",
    "\n",
    "def decode_cjson(text):\n",
    "    return str(base64.b64decode(text)).split(\"'\")[1]\n",
    "\n",
    "def get_cjson():\n",
    "\n",
    "    text = read_cjson()\n",
    "    \n",
    "    uid = json.loads(decode_cjson(text))\n",
    "    return uid\n",
    "\n",
    "def remove_cjson():\n",
    "    \n",
    "    if os.path.isfile('coursera.json'):\n",
    "        os.remove('coursera.json')\n",
    "\n",
    "def get_credential():\n",
    "\n",
    "    if os.path.isfile('coursera.json'):\n",
    "        username = get_cjson()['user']\n",
    "        password = get_cjson()['password']\n",
    "    else:\n",
    "        username = input('User Name:')\n",
    "        password = getpass.getpass('Password:')\n",
    "        text = '{\"user\":\"'+username+'\", \"password\":\"'+password+'\"}'\n",
    "        save_cjson(text)\n",
    "        \n",
    "    return username, password\n",
    "\n",
    "def remove_credential():\n",
    "    remove_cjson()\n",
    "    print('credential removed...')\n",
    "    return\n",
    "\n",
    "def reset_credential():\n",
    "    remove_cjson()\n",
    "    username, password = get_credential()\n",
    "    return username, password\n",
    "\n",
    "# vtt file conversion\n",
    "\n",
    "def read_text_file(file_name):\n",
    "    f = open(file_name, \"r\")\n",
    "    print(\"\\nvtt file being converted to srt: \" + file_name)  \n",
    "    return f.read()\n",
    "\n",
    "def file_create(file_name, str_data):\n",
    "    try:  \n",
    "        f = open(file_name, \"w\")\n",
    "        f.writelines(str(str_data))\n",
    "        f.close()\n",
    "    except IOError:        \n",
    "        file_name = file_name.split(os.sep)[-1]\n",
    "        f = open(file_name, \"w\")\n",
    "        f.writelines(str(str_data))\n",
    "        f.close()\n",
    "    print(\"file created: \" + file_name)\n",
    "    \n",
    "def convert_content(file_contents):\n",
    "    replacement = re.sub(r'([\\d]+)\\.([\\d]+)', r'\\1,\\2', file_contents)\n",
    "    replacement = re.sub(r'WEBVTT\\n\\n', '', replacement)\n",
    "    replacement = re.sub(r'^\\d+\\n', '', replacement)\n",
    "    replacement = re.sub(r'\\n\\d+\\n', '\\n', replacement)\n",
    "    return replacement\n",
    "\n",
    "def vtt_to_srt(file_name):\n",
    "    \n",
    "    file_contents = read_text_file(file_name)\n",
    "    str_data = \"\"\n",
    "    str_data = str_data + convert_content(file_contents)  \n",
    "    file_name = file_name.replace(\".vtt\",\".srt\")\n",
    "    print(file_name)\n",
    "    file_create(file_name, str_data)\n",
    "    \n",
    "# \n",
    "    \n",
    "def get_mp4_url(lesson_url):\n",
    "    \n",
    "    if lesson_url not in browser.driver.current_url:\n",
    "        browser.visit(homepage+lesson_url)\n",
    "        time.sleep(loading_time)\n",
    "        print('video playing will be paused in ' + str(loading_time) + ' seconds...')\n",
    "        time.sleep(loading_time)\n",
    "    try:\n",
    "        browser.find_by_css('span.cif-2x.cif-fw.cif-pause').click()\n",
    "    except:\n",
    "        time.sleep(loading_time)\n",
    "        try:\n",
    "            browser.find_by_css('span.cif-2x.cif-fw.cif-pause').click()\n",
    "        except:\n",
    "            pass\n",
    "        pass\n",
    "    mp4 = browser.find_by_tag('video').find_by_tag('source')['src']\n",
    "    mp4 = mp4.replace('360p/',resolution[chosen_res]+'p/')\n",
    "    return mp4\n",
    "\n",
    "def get_vtt_url(lesson_url):\n",
    "    if lesson_url not in browser.driver.current_url:\n",
    "        browser.visit(homepage+lesson_url)\n",
    "        time.sleep(loading_time)\n",
    "    element = browser.find_by_css('li.rc-SubtitleDownloadItem.resource-list-item')\n",
    "    vtt = BeautifulSoup(element.html, 'lxml').findAll('a')[0]['href']\n",
    "    vtt = homepage + vtt\n",
    "    return vtt"
   ]
  },
  {
   "cell_type": "code",
   "execution_count": null,
   "metadata": {},
   "outputs": [],
   "source": [
    "def vtt_downloader(lesson_id, lesson_title, lesson_url):\n",
    "    \n",
    "    base_filename = lesson_id +'-'+ safe_text(lesson_title)    \n",
    "    file_name = base_filename + '.vtt'\n",
    "    file_exists = os.path.isfile(file_name)\n",
    "\n",
    "    if file_exists:\n",
    "        print('subtitle already downloaded.')\n",
    "    else:\n",
    "        try:\n",
    "            vtt = get_vtt_url(lesson_url)\n",
    "            r = requests.get(vtt)\n",
    "            f = open(file_name, 'w')\n",
    "            f.write(r.text)\n",
    "            f.close()\n",
    "            vtt_to_srt(file_name)\n",
    "        except:\n",
    "            print('subtitle not yet available')\n",
    "            pass\n",
    "        \n",
    "def mp4_downloader(lesson_id, lesson_title, lesson_url):\n",
    "    \n",
    "    mp4 = get_mp4_url(lesson_url)\n",
    "    base_filename = lesson_id +'-'+ safe_text(lesson_title)\n",
    "    file_name = base_filename + '.mp4'\n",
    "\n",
    "    downloaded_size = 0\n",
    "    buffer_size = 1024\n",
    "\n",
    "    print('requesting to download...')\n",
    "    r = requests.get(mp4)\n",
    "    content_length = r.headers['Content-Length']\n",
    "    download_size = int(content_length)\n",
    "    file_exists = os.path.isfile(file_name)\n",
    "    \n",
    "    if file_exists:\n",
    "        \n",
    "        if os.path.getsize(file_name) == download_size:\n",
    "            print('mp4 already downloaded.')\n",
    "            \n",
    "    elif not file_exists:\n",
    "        \n",
    "        if r.status_code == 200:\n",
    "            f = open(file_name, 'wb')\n",
    "            for buffer in r.iter_content(buffer_size):\n",
    "                f.write(buffer)\n",
    "                downloaded_size += buffer_size\n",
    "                status='\\rdownloading...' + file_name + '>>> '\n",
    "                status = status +str(\"{:.0f}\".format(downloaded_size * 100. /download_size))+'%'\n",
    "                sys.stdout.write(status)\n",
    "                sys.stdout.flush()\n",
    "            f.close()\n",
    "        else:\n",
    "            print('please check your connection..')"
   ]
  },
  {
   "cell_type": "code",
   "execution_count": null,
   "metadata": {},
   "outputs": [],
   "source": [
    "def reformat_html(html, page_title):\n",
    "    \n",
    "    # reading\n",
    "    html = html.replace('<div class=\"rc-ItemBox rc-ReadingItem\"><div class=\"item-box-content\"><div>',\n",
    "                  '<div class=\"rc-ItemBox rc-ReadingItem\"><div class=\"item-box-content\"><div> <h2 class=\"flex-1 align-self-center headline-4-text\">'+page_title+'</h2>')\n",
    "\n",
    "    html = html.replace('<div class=\"Box_120drhm-o_O-endJustify_b0g9ud-o_O-displayflex_poyjc\" style=\"margin: 60px -60px -60px; border-top: 1px solid rgb(221, 221, 221); padding: 15px;\"><div class=\"rc-ItemFeedback\"><div class=\"rc-ItemFeedbackContent horizontal-box\"><div class=\"rc-Like\"><div class=\"rc-LikeContent\"><div><button class=\"c-button-icon\" aria-pressed=\"false\" aria-label=\"Like\"><i class=\"fa cif-thumbs-o-up\" aria-hidden=\"true\"></i></button></div><span></span></div></div><div class=\"rc-Dislike\"><div class=\"rc-LikeContent\"><div><button class=\"c-button-icon\" aria-pressed=\"false\" aria-label=\"Dislike\"><i class=\"cif-thumbs-o-down\" aria-hidden=\"true\"></i></button></div><span></span></div></div><div class=\"rc-Flag\"><div class=\"rc-FlagContent\"><div><button class=\"c-button-icon\" aria-pressed=\"false\" aria-label=\"Report problem\"><i class=\"cif-flag-o\" aria-hidden=\"true\"></i></button></div><span></span></div></div></div></div></div></div></div>',\n",
    "                        '')\n",
    "    \n",
    "    return html    \n",
    "    \n",
    "def reformat_html_quiz(html, page_title):    \n",
    "    # quiz\n",
    "    html = html.replace('<div class=\"header-back-arrow\"><button class=\"back nostyle\" role=\"button\" tabindex=\"0\"><i class=\"cif-back headline-2-text\"></i><span class=\"screenreader-only\">Back</span></button></div>',\n",
    "                        '')\n",
    "    html = html.replace('<div data-rc=\"ItemFeedback\" class=\"c-quiz-item-feedback\"><div data-reactroot=\"\" class=\"rc-ItemFeedback\"><div class=\"rc-ItemFeedbackContent horizontal-box\"><div class=\"rc-Like\"><div class=\"rc-LikeContent\"><div><button class=\"c-button-icon\" aria-pressed=\"false\" aria-label=\"Like\"><i class=\"fa cif-thumbs-o-up\" aria-hidden=\"true\"></i></button></div><span></span></div></div><div class=\"rc-Dislike\"><div class=\"rc-LikeContent\"><div><button class=\"c-button-icon\" aria-pressed=\"false\" aria-label=\"Dislike\"><i class=\"cif-thumbs-o-down\" aria-hidden=\"true\"></i></button></div><span></span></div></div><div class=\"rc-Flag\"><div class=\"rc-FlagContent\"><div><button class=\"c-button-icon\" aria-pressed=\"false\" aria-label=\"Report problem\"><i class=\"cif-flag-o\" aria-hidden=\"true\"></i></button></div><span></span></div></div></div></div></div>',\n",
    "                        '')\n",
    "    \n",
    "    return html\n",
    "\n",
    "def write_html(base_filename, html):\n",
    "    \n",
    "    html = reformat_html(html, base_filename)\n",
    "    file_name = base_filename + '.html'\n",
    "    f = open(file_name, 'w')\n",
    "    html = '<html><head><link href=\"https://d3njjcbhbojbot.cloudfront.net/webapps/builds/ondemand/app.07c9f4ac0583c6e2d2d1.css\" rel=\"stylesheet\"></head><body>'+html+'</body></html>'\n",
    "    f.write(html)\n",
    "    f.close()\n",
    "    \n",
    "def write_html_quiz(base_filename, html):\n",
    "    \n",
    "    html = reformat_html_quiz(html, base_filename)\n",
    "    file_name = base_filename + '.html'\n",
    "    f = open(file_name, 'w')\n",
    "    html = '<html><head><link href=\"https://d3njjcbhbojbot.cloudfront.net/webapps/builds/ondemand/app.07c9f4ac0583c6e2d2d1.css\" rel=\"stylesheet\"></head><body>'+html+'</body></html>'\n",
    "    f.write(html)\n",
    "    f.close()\n",
    "    \n",
    "    \n",
    "    \n",
    "def quiz_downloader(lesson_id, lesson_title, lesson_url):\n",
    "    \n",
    "    if lesson_url not in browser.driver.current_url:\n",
    "        browser.visit(homepage+lesson_url)\n",
    "        time.sleep(loading_time)\n",
    "        \n",
    "    button_click('Continue')\n",
    "    button_click('Start')\n",
    "    button_click('Resume')\n",
    "    button_click('Start Quiz')\n",
    "    \n",
    "    try:\n",
    "        time.sleep(loading_time)\n",
    "        html = browser.find_by_css('div.rc-FullscreenLayoutHandler').html\n",
    "        print('got quiz item')\n",
    "        base_filename = lesson_id +'-'+ safe_text(lesson_title)\n",
    "        write_html_quiz(base_filename, html)\n",
    "    except:\n",
    "        print('something wrong...')\n",
    "        html ='no quiz content scraped.'\n",
    "        pass\n",
    "    \n",
    "\n",
    "    \n",
    "def html_downloader(lesson_id, lesson_title, lesson_url):\n",
    "    \n",
    "    if lesson_url not in browser.driver.current_url:\n",
    "        browser.visit(homepage+lesson_url)\n",
    "        time.sleep(loading_time)\n",
    "        \n",
    "    try:\n",
    "        html = browser.find_by_css('div.item-page-content').html\n",
    "        print('got reading item')\n",
    "    except:\n",
    "        html ='no content scraped.'\n",
    "        pass\n",
    "    \n",
    "    base_filename = lesson_id +'-'+ safe_text(lesson_title)\n",
    "    try:\n",
    "        write_html(base_filename, html)\n",
    "    except:\n",
    "        # file name too long\n",
    "        write_html(base_filename[:55], html)\n",
    "    \n",
    "    return\n",
    "\n",
    "def check_html_reading(lesson_id, lesson_title, lesson_url):\n",
    "    \n",
    "    base_filename = lesson_id +'-'+ safe_text(lesson_title)\n",
    "    file_name = base_filename + '.html'\n",
    "    \n",
    "    file_exists = os.path.isfile(file_name)\n",
    "    if file_exists:\n",
    "        print('html already downloaded.')\n",
    "    else:\n",
    "        html_downloader(lesson_id, lesson_title, lesson_url)\n",
    "        \n",
    "\n",
    "def check_mp4(lesson_id, lesson_title, lesson_url):\n",
    "    \n",
    "    base_filename = lesson_id +'-'+ safe_text(lesson_title)\n",
    "    file_name = base_filename + '.mp4'\n",
    "    \n",
    "    file_exists = os.path.isfile(file_name)\n",
    "    if file_exists:\n",
    "        print('mp4 already downloaded.')\n",
    "    else:\n",
    "        mp4_downloader(lesson_id, lesson_title, lesson_url)\n",
    "        \n",
    "        \n",
    "def check_vtt(lesson_id, lesson_title, lesson_url):\n",
    "    \n",
    "    base_filename = lesson_id +'-'+ safe_text(lesson_title)\n",
    "    file_name = base_filename + '.vtt'\n",
    "    \n",
    "    file_exists = os.path.isfile(file_name)\n",
    "    if file_exists:\n",
    "        print('vtt already downloaded.')\n",
    "    else:\n",
    "        vtt_downloader(lesson_id, lesson_title, lesson_url)\n",
    "        \n",
    "\n",
    "def check_quiz(lesson_id, lesson_title, lesson_url):\n",
    "    \n",
    "    base_filename = lesson_id +'-'+ safe_text(lesson_title)\n",
    "    file_name = base_filename + '.html'\n",
    "    \n",
    "    file_exists = os.path.isfile(file_name)\n",
    "    if file_exists:\n",
    "        print('quiz already downloaded.')\n",
    "    else:\n",
    "        quiz_downloader(lesson_id, lesson_title, lesson_url)\n",
    "        \n",
    "### CREATE m3u PLAYLIST FILE\n",
    "def create_m3u_playlist(course_title):\n",
    "    \n",
    "    os.chdir(safe_text(course_title))\n",
    "    seq = 0\n",
    "    m3u_text = '#EXTM3U'+'\\n'\n",
    "    for root, dirs, files in os.walk(os.getcwd(), topdown=False):\n",
    "        for name in sorted(files):\n",
    "            if 'mp4' in name:\n",
    "                seq += 1\n",
    "                #mp4 = os.path.join(root, name)\n",
    "                mp4 = (name)\n",
    "                m3u_text += ('#EXTINF:'+str(int((MP4(mp4).info.length)))+','+ name) + '\\n'\n",
    "                m3u_text += (mp4) + '\\n'\n",
    "    playlist_base_name = safe_text(course_title).replace(' ','-')\n",
    "    playlist_name = '000-'+playlist_base_name + '.m3u'\n",
    "    f = open(playlist_name, 'w')\n",
    "    f.write(m3u_text)\n",
    "    f.close()\n",
    "    print('playlist file created: '+playlist_name)"
   ]
  },
  {
   "cell_type": "markdown",
   "metadata": {},
   "source": [
    "##  <a name='coursera'><b style=\"color:#3b5998\">C. Coursera</b></a>\n",
    "\n",
    "###  <a name='login'><b style=\"color:royalblue\">(1) Login Page</b></a>\n"
   ]
  },
  {
   "cell_type": "code",
   "execution_count": null,
   "metadata": {},
   "outputs": [],
   "source": [
    "browser = Browser('firefox', headless = True)"
   ]
  },
  {
   "cell_type": "code",
   "execution_count": null,
   "metadata": {
    "scrolled": true
   },
   "outputs": [],
   "source": [
    "browser.visit('https://www.coursera.org/?authMode=login')\n",
    "screenshot()"
   ]
  },
  {
   "cell_type": "markdown",
   "metadata": {},
   "source": [
    "###  <b style=\"color:royalblue\">Insert Login Credential</b>"
   ]
  },
  {
   "cell_type": "code",
   "execution_count": null,
   "metadata": {},
   "outputs": [],
   "source": [
    "#reset_credential() #uncomment to reset \n",
    "username, password = get_credential()"
   ]
  },
  {
   "cell_type": "code",
   "execution_count": null,
   "metadata": {},
   "outputs": [],
   "source": [
    "browser.visit('https://www.coursera.org/courses?authMode=login')"
   ]
  },
  {
   "cell_type": "code",
   "execution_count": null,
   "metadata": {},
   "outputs": [],
   "source": [
    "browser.fill('email', username)\n",
    "browser.fill('password', password)"
   ]
  },
  {
   "cell_type": "code",
   "execution_count": null,
   "metadata": {},
   "outputs": [],
   "source": [
    "screenshot()"
   ]
  },
  {
   "cell_type": "code",
   "execution_count": null,
   "metadata": {},
   "outputs": [],
   "source": [
    "button_click('Log in')"
   ]
  },
  {
   "cell_type": "markdown",
   "metadata": {},
   "source": [
    "###  <a name=\"last-active-courses\"><b style=\"color:royalblue\">LAST ACTIVE COURSES</b></a>"
   ]
  },
  {
   "cell_type": "code",
   "execution_count": null,
   "metadata": {},
   "outputs": [],
   "source": [
    "browser.visit(homepage)\n",
    "section = browser.find_by_tag('section')\n",
    "titles = []\n",
    "\n",
    "for s in section:\n",
    "    title = s.find_by_tag('h4').text\n",
    "    titles.append(title)"
   ]
  },
  {
   "cell_type": "code",
   "execution_count": null,
   "metadata": {},
   "outputs": [],
   "source": [
    "screenshot()"
   ]
  },
  {
   "cell_type": "markdown",
   "metadata": {},
   "source": [
    "###  <b style=\"color:royalblue\">PICK ONE OF THE COURSES</b>\n",
    "<img src=\"data:image/png;base64,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\">\n",
    "\n",
    "There are {{len(titles)}} courses visible in this section you can pick to download."
   ]
  },
  {
   "cell_type": "code",
   "execution_count": null,
   "metadata": {},
   "outputs": [],
   "source": [
    "for i, title in enumerate(titles):\n",
    "    print(i+1, title)\n",
    "try:\n",
    "    chosen_course = int(input('Choose a course number from [1] to ['+ str(len(titles))+']:\\n'))\n",
    "except:\n",
    "    chosen_course = 1\n",
    "course_title = titles[chosen_course-1]\n",
    "print('>> You choose:\\n'+course_title)"
   ]
  },
  {
   "cell_type": "markdown",
   "metadata": {},
   "source": [
    " ### {{ titles[chosen_course-1] }}"
   ]
  },
  {
   "cell_type": "code",
   "execution_count": null,
   "metadata": {},
   "outputs": [],
   "source": [
    "section[chosen_course-1].click()\n",
    "os.chdir(initial_dirname)\n",
    "create_download_dir(course_title)"
   ]
  },
  {
   "cell_type": "code",
   "execution_count": null,
   "metadata": {},
   "outputs": [],
   "source": [
    "screenshot()"
   ]
  },
  {
   "cell_type": "markdown",
   "metadata": {},
   "source": [
    "####  <b style=\"color:#3b5998\">Enumerate Weeks</b>\n",
    "<img src=\"data:image/png;base64,iVBORw0KGgoAAAANSUhEUgAAAVIAAACVCAMAAAA9kYJlAAABvFBMVEX////tFlEBX50Are9xv0X3lB3sAErsAEjsAEQAqe7sAEcAT5X4/P0ArPHsAEFHr+b/zsf/4t75vLcAWpz6xb7rADu95PnuGlT3kQD/1tH/urydkKn829n96eh1v0n+9fP0j6KqtdD1ipXxZ32ztszyeJLycIPzeYj7197d8Pzd7tRnvDP4rq/5w8wAV5vsxcX2l53/kgD1m636y9T4tsNjuiz83eP95+wAWKHwUXXuK1vwW3t0wz/83cTvQGbzhJrrADL3r737zKP/wLfR6cb4rIn+8umqv9X0hZH2orL3sL796tjwTm6tqsf4oVj5uKlcql673qs3dKiTn0iIvli9v4f3mTqWv2Xr9eap1pOEo8TYrbOYz3z5t3nN2ebevaH4qXb4qnzl3OHPVE74o0m3nq5zsd2kj0k+eKt3m7+BhqfdO06ouoFqfaXVxJTLu8hfwvNOmm5rpr33m1YfcJKeu9mPy3JDj3l/sEbtvq/6w5T81bM8iH6vgkpdibSMqUcqeIuS0/ajumrDv4zTmViSjamToqH5sGvZs6hhp8Su3fjVNWxKmNaRcatwlcwAQ5CmYplktFGaoZqwnoRwIYTfAAAajklEQVR4nO2d/WMTR3rHJWzPbjZ4seXdk2Usr86KbAXLoEjGildGtjEQG1S7UEOgQIDWSWl6x13vmvS4tL2WNKXtXe/68g93Zt80b8/srKUEkvP3fsixHq92P37meZ555kW53KlOdapT/VHIq9Naf9OP80PQ6rZNqfimH+eHoFUzT6nozL/pB/r+6xTpyHWKdOQ6RTpynSKVywvEXmtXqhv+RrXVVv/qKVK5ai7JgMxAtk+utJBtIJRHyLCtiupXT5HKVUMUFr9Q7vg0KMtahX/1FKlcLFKHxYTltsBfPUUqF4cU5XnZDehX316k7Wp3/819OoO0tywizfdKwK++tUj3XdM2e2/s41krLYpE81ajTLXvtFdXowpJCtJOfXV1td75zt4kUd21avuWvZbecqtCaSu5vDq4lry6l7SFPWGkmsQuWaGlqeSzukFyYNtdkl8pkK63Nuyoqd1vfcdFqp6xkctVzZpGS9MYyN2J+XWTy3YrvrbqRpfMpbIH3S9UOtJ8zwnv0S7acWNk9zsw0rWeawxui5MxX8NiRqa2beOusaWDdN+iTadaiC5T79WPryWcULMwPFLkBH+qLZe56K615UjbPp815POmnzJsGKE2jG6OWGklvem6TT+kH5kOfbXoRGaauERUKCjuSMQjRcjPW+wlo0Fg1Wz2at7sMf+MkdbcvEwuaDTtnZ2bIwTecW1yN9/c0WjMxA6jMB1c3KHe32rMR3eNr/QdKFzH4pBi63emGuw1o4GdaYsnyitC2rOAn1s9YgOtpUTVYBSxZdqWZW2vp3QmfbUsUgz3bLuu0XjLoN+9WRKQoMUwkNyMXwvtFcqqO+YEpBtTxPoZH5M3mk5uXW57AlIf9iPIx8/StVAsszKf8/zwk4yGMwxGWr2gx6+Zrk7jNm0oaCl8CNp0YwebYDIadL/vdDqiLbBIrUbgezuMSSKMtJfqcgOkfVUz1PdyVSps7RWSv8BQSHe2lwb/iMyzam1o/S7j9sM43JE5WDT4d5T/1FtdFNRHXH9pn0kVWaTF6BfYSNR0VtO6fYi0IgYmWtYei9TZinvDUEh7FuWnV20UoNJypTn6efDzBc6UTWSsOXItiVjYksm/vVbeHiQ1yHJ7NyGkfWdahnSKjUQkiAnmWHSmOe9gFP2ixbRDTpex0uThh0HacS0KX8UkJov7vZ5zXqP5hc6U8a/RtSRiGUEKVbGFiGHmk0SRRdqNcgYOaYO7Q3G5uewb3DWnvEHfC/UajlNylphnXupT/1gcDH8zIi3TFd62aVIJQ98mfPuWRlZK5LnM45GnYM0nvJZYAnJwXClKQ7DdL0uQoqocKTf09wuFkudtsTcuTjU5xxTmJBWmGfW8aNFP/n82pH3XtbH5+/1utVZpVZG1026vd8InN0me33Fd3REbA5A4U4/zcYGDTd4Bd+M1KFIjc1UfKfuHw0EvgOUzV4usd8CNoj8a8AD5POXHsiGtupZFxoaWaVmmie9CgkQg/CcjWemWqRecsFp0Z7PwM7c5pCRbrSeudHFqWRFW3H1dpIuckTrh+1eYrl8ssOYYR8bcFpQFUH+SbEi91ZutyhbRUreL+6TfjVXbQL06MVXtsQMzgDKw42xxDi24Fr+aVdiD8u5AQSVUA2l+ifkXbiSOMjCgPeZOS/FIjo0AgIYIT57NRCcbG8q+naGyxzz1spPrchZAriVBosdHFeFFHD2knMPei+oGLCu/zzZy4gjS/naRthmT7LrYSPM6hb1YbMHYyQl9CjvT+A3Qss/9kG+NetNaSNkqKmpG4wc2gWM/DFWb7VD1/ZQ/LNEQSPctOl/y8T/WMq3PYt4CiTNF+Np+4gu4ZNLwq9086yisRU8HKfD64qczT2JGMlSt8kGOi8yTI60ZNEDXx1htvTQ/EuNMG+K8htGoAtHAWHSc+TI3vvGnToC0oIVUU0Z/b3FxsXpypL2glhdp3V3C46d8phvQzhPt9YUnpJM99gfLYQhmU3uj2WUa6SDNF0ojQ4p6BWdqmizOSCvvgHINauZi1W3lena2qTwmyvYjfP2NwTV+6JjICT1gmaXVrzJvqIO06IwOqe+klspS1LFNaqnBjrtad0UjXdvoVcFaX1nysmhJNrHJtanGRfcNtm2fa6WDdH5USHGkmx6OKAn4VBmo4na6rhDuN2zLtuAFCRIrRM1mWgigZkz4VJZp9R0jNZy0SYdUrZkG9a+aWxfDfc+wa2td5EJ2WhGJGHOF1DxlUDlVZd6jRIqkYtv0UicdUlVhJuw3irXYSOtx2K9ZwSXfhFxsXRxi+k5JjFOcrMIUfIMBBr3wpIO0v7csExs8u86QnpSfCcV9ODRSr+tuhw5h3TWDLq8YpIpuEz8YOI6OZSRD7vVhkSKdiI8TjLJEXleasw2hLjMTivJWYIt1UqcNL20gP3xYG7yHMEuMFgue2Ju5XAols+yd7EjZ0ZPRiJAqXciS3EtW2UJA2pR4uvpMf3bzFvlP20V5FK4e6bhhRrChqKAKtkHcpMAJVbl/J0j5eqAGUtatoMUoLWdHmtzin34yxs+tFXvd2lZrZ61d73RHjdSnx/OejWoh0Z5vrkUPiULIrmIpkYCE1NqEjt/kJpMHSBWdGqpEsffqRkjZmo3P/REHCeeSQWKVYZHlPOy8yQiQGrSLDJPUdRcVPWSHReiuVSX/8c1kyZNkUR+XWGJ7mOdfD18EkWbv+Ii7lxGuO+Nu5LOt0N506geOAqlLz5LUbdvLedihdjw3mnTuBcGpZaK4zdq2+JlsmRIHAmIPXLkHLY4UKZcMh8sjuXno4hR3r2b0gfB89SiQMoG8TZLSDeS28VtG0ahIpko7rpu0Mrb4WwhMjKDWxhUljbkGV3NKkGaP+MLcEyru1Nd4UsUprpVVq3c66/tCSXG0SH0a6U27m9u3SQ5Qd/3wUhC+fDvh2JIYKT/nY4WFIdb7+c4ch3QuTqqz56XiDGnesoVoj0cA3OpURBYOqAYho0C6YVND/LxV6eDQlCP+NJp9quG8tWsnU1Hr2xXZXdgBlB+OQHz2WZ0yCz5Y1xQo++jJaDq/TV/fV3SmV9NX+bAlhREg3XIHxdGuZa3ibk9Cuxdb6U0TD6iSAZaXN/gbBGLsLKbAJPvEGbD5K2rGSDmvW/SLA+WrUZxG+KofK990fq+32qSWMjC2miNHujpYEthyN4yaEY6Vcvl4TZSVtwYFVX8b2CHDLDSN6iHssgmcV7HWSCalQrEZkdVwSrSm4tSnVLo0kDOWbqbB0F+9dApVp0aONJdUolrbtbaJ8pF11twIXsVIpvs68P4Y2gCtuXCYwgStDfJ6rGHFS5m5DDZZNSXoR+9MDjT2O0mfZntx6sq9POo7zshT/VwlnA71attdEnrj0N6Jen7HMg2zt7PudepbLlzgow0wXhhGmy4eopbFNXmh/bEz/2gPLFj+6J0xWv8lMOV6cdr60ryx4RS8kQ9IyZIda2u/Zm9vEbtCSSDacnttshjerbdcM1w6kYdn96kBEOrG2RH197eCtc8dblQZhnxuIhNeJc0hHftvjinqT8mQ4leRG6qxh4mOfoxPPtF0t7f7pBrqbVPDzgq+ur3t40FUp7WB+2NNORM9GEAlk+p0aTkqQ9bYJWi9dqfT7nFDHHizEo8U2ym7isxxNuh7JWXU9Z4tQEVWvxF0p28DKf7IenQfZiWUt7a/r7MUOtC+Gy8mtpPScns7vmYuh3Hb4/ogNn8ugfIVVXUB6djvfptARdYStrmua1DV5cFfp9216UWQyEDdhhMmJt8O0hHIW91fDLUXzwDjazvxtRhzWp44WAomkYh0bOz31bxpGRbylzAiL1dvNxcHKlAGX96p+nkTtzWsfK/aLDhxJvHWIs3F++jZvfTCNfWeBbOpmqeQIR0b++y9tUYDE5r3uE8UdvV706VCA7ctTJXmB3+4txmpnrYUTM09R7UeQY50bPIclHVp6fuPFI8oIKLWopIohHRsOKTE/SZbDM3q9xFpro2kk8zIb4BJfqhvB+l6vUmp8b1ESoZmYk6Du1zaooRvBymn7ydRnOnWuJwmv1RwSmlv850g/f7K2+nnbQsnkTip8atNZ6qxv7raXlfO+I4a6Y0bt64EunVD91fOAkpvl36rk70EI29+jjivOWfKaez1LCPcK9+r3YQmDkeI9NbV1/dmaU28vnpL4/eevyvVHz5hm539Q1qL3Bdckz98lPklpKrX+t1+zzcM2gtYbrEi3dAyKqRfvQ4gsiKXXl9J+9WPLp6RaeY867Q+eVdo8Q3n1p5zDS5eGnpNBtmiVxSH3qEMuyepKIwE6Y3HAk0a62O1DzgrsAr1nOXxhUj+zrT6Rnd2R1BVNJUFd2q7XqwRIPUUQCOqj5WvdkeOdIYd9P3TTFqLTzjoM98MvbF6x0hd2mf3uO4/PNKrKUBDqFcVd/hzEVbQbR8yrSSNuBb8fS4+HPK0oHI/feYIe1Wu5D0sUu84HWgA9Rg2VNFLhkbGONP3JY04dytY+5D9fhXyoULvZ3YJDon0loaJxoYKR3+5lZ75Ke1MpUGMacG70pmf7mYBKAge5YuGWqT+eFmQnn2f160PNIEGUMHY/9dypoyrlLZhWvDQZz4daqWwqhYlMs0P/rhZkI69w+k/shDFTCE7BdIoxlWmtxBc6VB7LjIRJUwTO82A9OeTbJPJc7qdPmEKZFNAGjVzPq0J3UKAfkfo92fvX7hGdOF+6rBqPxtRUqHKjvRf+JaTmpGJFvACz6U9f4ZylXyCJLYQXOl5JoW69uDLzZWBxr+8fUFBtK3vR2Mle920kQoNJ/83W7cPzPSx/A2Ann9m4AyBROvMPHgPKoU6e/vLyyub46w2Vy5/eQ0g6p1kF028t00X6ftCu3PZiU5MfCAPUbIM6QzjKu8AueulpIUQv+IU6sKjyyvjcq1cfnBf9jz84l5Npp1MSIUGk/+Xvdtj3ZObhdwEB64SGrTOfArdYubz0JVeOLoM8Axt9fIjEeoavPzYsCwD4o36WZD+XGwGEE3KUMCPX0qRyvv1wFXKXSkBFwda3tDDFOr+IyXQQJcf8E8DbcMz+ouNQqOx2AdGqeGGAj2kQmgam/w3ab+fPX56/XB39/Dw2QFAVW6mwAAqcZWSmkmkuHLykSyFuiZ4UGn3X2ANtQIQKzbizcUFYFFYURuppNHkv0qIzR4cFpz5cpl8bKd0fUIGdVaefwOZaewqJTWTUO9CLZ7jfv8I8qGCodJxCtqMUywMEl1PvnjRbGgiFUMTRirDdVBgJmbKB2wj7A7uYSOWIpUzS1wlYMQYetyCHzqdnzq7oGOiYudvyY3UYGYlgZzA10Qq+fGkLN7PHvIW+HqWonnw7LBQcEry+UV5GhU7U8gvDMrQfIuLD69o8ww6/4CpvE+jqsMUYeT7nsn6dw2k/KgpQPrvsn5/Xaj83AtoTsQ04REiFNKnFcADRWVowdm+1O30PFNgSX6yWzGSfMsOquogFUMTJvrjZ9LgIyC7Mnvw9PpuoTA1n3a0Mj/JERlb6CqBukrQInxTznHMfL6QjSju+7fDB+H3lsVd2uFeADhlopyOVNZg8rPdp/J4LmTyngbNQPKYHjlTEGgyHOCM/MP/yUoUMw1GqEBwQlV+OCk/C9pqpCKVhaaxc7vzV+VIZ2dfX72iPd1MSz6ACvNOYHAVtgjK0Jwr/fBv9SMTJfIcQL9He/wMgfwUJ7SUilT6w4KTA5CGkQg7z8e//iojWgAZcZUKVxqVodmhwsw/n4jo5qMct0KOQtXknRqwqb5XTkEqDU2XcMr3VcpwNBhBfXAP26zuZIV8ABU4U6hmEvIjzpQtAVwEHWlYjIKAk64PzS83+fcAjm8zSmqk0tD0HqlHXNGccsJcJx6nTuUTyROlwJkCU6gRv4d8vvDh3wPMNsfvPnlZePnk7gKQDiyAe2/RcrvOCji+zWgokQKhifTFWxmKJmSBhMayE3l8ws4USrCiFueFEgBAdOVVYa5Ehnbl9a/lTFeugbsakWmzAgoBaE+JVHJ98txumLVknCOZvZdqqsCgcxqsmURIsTNlPAMUm1buzg1SywvycsoCdEqcttDSRxJnGSOVlJ+C0BToOBNSQvU4JVzJgxB2pkpXeobUVljPABjpx3N00L4ttdOVvxmSaD7fVyCVdvtL8YTOr7OXSz/4SolU3r/xIF4+CqCgM795EfCkKy/ZzFLaaHNoonkfRnpWRvRnyWqDTPPNMdNfK5lKK/fYmSr7PYlgjH1/CIT7j+fYmP1ASn7Yfo8FI5XlT2PUPG7mnj8Bzz2Fkg+g7lyiLz//XOA+8zl9DcpJV15ww58Lsp7/q+GRGj+GkH4h/cEXg0fSTKM4pqq1UcAgiQH2zXnRlBlPCganl3yuLkP6m+GN1ISQAnqHeq6TmCk0nxdKSvQMzXDm04cpbgDq9+NzfK4uQ/9nwyO1MyKdpMz0xonm82YVoylFwSnSxUJZ3Wbm74B4vzDHf9qXbwfSsTHKTNMGpXKkr2Gk6gQ00G5K/J+BRk5H3xVS808yIp2kl79fPclU/qxi25BymESA/dRJyVI//FMI6ZMLnI4krUbhS7MiHRujOy5cj1IgfQojBWftYqTnSymmDLrS8RVeska/Gh6pnRkpY6Y47GeHOgtPlyireGdIiWQ6ZcQPDZ00tTB8EpUd6dg5Jr54B5mZzsrnSIlScJ2ZISMNZYOTVUoTgaMn1HQKetp9LzPSSW630ct7GaHOPoWDPrD0KRaZnFfmBTP/MCRSaIyPFrUXq0KVKG0zxYb68pfZuv8xfCAmvKokAPYNGQGpvMPFk82QDJD+5RtBypsphlq6fgAvgxIFb/SAJ+wDpMH6RlWbE046DZD+I4R0+dtEKpgpUbl0+PR4Qo/rrGI7kopovFRchRTKoXQFZVGoKiKt1IIDcPlvAj0J0nf+QkqjPD91eP3pwYRq4V6IVHEmvHIAFS0VVyT7QyMF41NPTKdNIzwA13WR72/Uaq39HbIL+iRIxz4DiXjl+ZJzeP1ZQBZECod8ZdY583lo3opkf3ikkDO1hJX27HmmwQnDhLB7IqSCmXq3mGqIV56eL+1eh/IrFVJVGhXvulFgHxrp+F9BPX+Pf9Qt+ewTWNVXajIxU8zy6uNjMg8qmQXpTMnzK1XHVw2gLj4sp2EfHuk41PMR50yhZSl7aqTnYDONWcZ+85dSQNICoBKpKkWKpxTgFsNGfDxuBdOoJfZBgbVTRkFdidr9TGqkvzie/YCPQfJqiLxYpUIKL9YZbGCELfnDn4BIF1Si2v0GGpPaFfo5oUNc+47Kl07+bFe6JArYTCID9Fi6sle5pxtcB0FqJqHgAcGdF+AayLU5PTnAV2nl82Y/Odtvlf/K28RIm1MKpJOf7ZZzP5f+RLaqfGJCdKfSKvXsU+XeTjCek5pJKDDZnzn/BEIqlqAh1cFtZMjO11qtVqVrgPuifEeVRAWLIKQ/n/yFfO/DY25Nibzbzx4qt8nDvAYLu6EmFx/Og1aqjRTykiFVcpgY/HNj0VGk+pOXgv4p/5kMFVlTMvH46pVbN26Qc3iuvoYy05STuKBe/XywJxR0DrseVC/d1P/OKdkXmGkKGymMNFxNlsv9p9RM5Vt0JgbbnhQjqKcpx2NAW8m/GSTbgHMg28fk0/NkhlT4oPuPHtwme3SFvWT7J/3WMKvpwAPSaDUZlrQBYKY6Sun38FbyT+H9ojFSPBa4BvT8lRfCB127HG3UvXx5fOHo0YMHt29fuxDsglafHw4KBd9sBVpp8mVcsgWRkDfV0UHaCXxAJk9vr4f2nOImZyFn+kooKT7gXMNmQJis2eeP2dVUMfiOLHDlXuK45HkUEPQ1jHQ39SwH+VZyZnu9vOMH3lY28RkQEzoHsCDyyfyJNo8n34ars0lH3uBkSGevpx8TKe3Wcc0klDTZnzlPHhrs+Xe5j5Gv3RsfD3rDzexMrei7DzSQAmaa8RSOiOiBxvdnSrs1e1KJNNmPEldwpzgbhu4DG3ZfhdnWflam1l70NSUn3J03por6CqL3CpIzUwRJ/eRDumwhL0aFOQoU88fHaab3oczgSfSny8jUWowPHtdBKs2jTsIUE9U6X0yaIzGHPslCWOwaIPMjO/DiM03uP4BHWfHnpH+9DSXUdOLup7XTGSitZGWKe73eiW2SARR/6JMk2U9O3ngEmunmyhHOlG4/OLoMNVn5ejAk6Pi6gR/51KnwWkiledRYsJM0yy6IZ1q9nkjs1oOaSSjJeGAmfivYTMfDbTqqAuAc7V+29M4zs5YcajukFlLZguhAn/H7wxVAjw8L2kfgiQF9UDMJJWYFlB1DsTxdKy/YcWu9l364EfnKC/rN9E6NkOdRQSn6pfQgAwHovesFfl+rQhJgXO4lZgUznw4eOfOe3FhHc/xE6FzfVFlq+B0izLPpIZXnUeGMiSc/HYLmOXuMgWY5WuzsuzOchHO0hBbvUqMrZddXGelLibOfWvItYBekUVxqJF95kQ1pTjFjgt344S8V58PM3nt2WOA/Nk0fnef0Kf+uQovzdEpwsq6/cldYKh1ourHcz5NDtgffw4OQgXrLDUdygLkmUiCPiuefvfnDp/eEqZPw4I3dgjOf/dDL6RIn4W8itGA8tfaxJpQ22Z1RtLxyaa65VyUnQmP1+tXlReoLR06EFEj3qcX73jyZvz84OL4X6Pjg6bPrwVERWrvxR68vs8/rHakzkmAqfSpSaR48AkMXKZhHUYv3ycKI+dKqEwqbTXkEp1ufWEdZmS5oZs1p0kUK5lGTbxKbUkeZ+v7mEfzVbdmkfYyhdGcZb6Zvl7L405WPsyR5SmkjhfIoZo/JWyb9uI9j/ci+QYT50kxK4vml54CW77y9Zpq7odf5VxaegLE+u97/0XtS/UxA+v5HP5brvbf5i3JejKdCXRn/em5UnT7UtFxid/aAlooDtd4Clb+GTt2Igd4t6BcfThWo8+TVJlB8Wln5+MXcCPv8H486pSd3jzZXVjYHYEmNb+HVi8Jc1qHyqWKV552XT77+yauPj4g+fnX36yeFuTngTMVT6crrrJdKTmEO/88h3/H5NofVU53qh6z/B3+SRk2rbCH8AAAAAElFTkSuQmCC\">"
   ]
  },
  {
   "cell_type": "code",
   "execution_count": null,
   "metadata": {},
   "outputs": [],
   "source": [
    "lecture_homepage = browser.driver.current_url\n",
    "lecture_homepage"
   ]
  },
  {
   "cell_type": "code",
   "execution_count": null,
   "metadata": {},
   "outputs": [],
   "source": [
    "weeks = []\n",
    "\n",
    "if browser.find_by_text('Preview Week 1'):\n",
    "\n",
    "    week = lecture_homepage.replace('welcome','week/')\n",
    "    week = week[week.index('/learn'):]\n",
    "    \n",
    "    for i in range(4):\n",
    "        weeks.append(week + str(i+1))\n",
    "    \n",
    "else:\n",
    "    \n",
    "    week = browser.find_by_css('div.rc-WeekCollectionNavigationItem > div')\n",
    "    anchors = BeautifulSoup(week.html, 'lxml').findAll('a', attrs={})\n",
    "\n",
    "    for a in anchors:\n",
    "        weeks.append(a['href'])    \n",
    "\n",
    "weeks, len(weeks)        "
   ]
  },
  {
   "cell_type": "markdown",
   "metadata": {},
   "source": [
    "####  <b style=\"color:#3b5998\">Enumerate Module Lessons</b>\n",
    "<img src=\"data:image/png;base64,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\">"
   ]
  },
  {
   "cell_type": "code",
   "execution_count": null,
   "metadata": {},
   "outputs": [],
   "source": [
    "lessons_i = []\n",
    "lessons_t = []\n",
    "lessons_u = []\n",
    "w_digit = len(str(len(weeks)))\n",
    "for w in range(len(weeks)):\n",
    "    \n",
    "    print('Collecting lessons title and urls...\\n')    \n",
    "    browser.visit(homepage + weeks[w])\n",
    "    time.sleep(loading_time)\n",
    "    w = w+1\n",
    "    \n",
    "    print('\\nCollecting titles and urls from week: ' + str(w))\n",
    "    time.sleep(loading_time)\n",
    "    module_lessons = browser.find_by_css('div.rc-ModuleLessons')\n",
    "    print()\n",
    "    print('Week '+str(w)+' titles:')\n",
    "    seq = 0\n",
    "    for i, module_lesson in enumerate(module_lessons):\n",
    "\n",
    "        lessons_title = module_lesson.find_by_css('div.rc-WeekItemName.headline-1-text')\n",
    "\n",
    "        for j, l in enumerate(lessons_title):\n",
    "            seq  += 1\n",
    "            lesson_id = str(w*100+seq).zfill(w_digit+2)\n",
    "            title = l.text.replace('\\n',' ')\n",
    "            print(lesson_id, title)\n",
    "            title = safe_text(title)\n",
    "            lessons_t.append(title)\n",
    "            lessons_i.append(lesson_id)\n",
    "    \n",
    "    print()\n",
    "    print('Week '+str(w)+' links:')    \n",
    "    seq = 0\n",
    "\n",
    "    for i, module_lesson in enumerate(module_lessons):\n",
    "\n",
    "        lessons_url = module_lesson.find_by_tag('ul')\n",
    "    \n",
    "        for j, e in enumerate(lessons_url):\n",
    "            anchors = BeautifulSoup(e.html, 'lxml').findAll('a')\n",
    "            for k, a in enumerate(anchors):\n",
    "                seq += 1\n",
    "                lesson_id = str(w*100+seq).zfill(w_digit+2)\n",
    "                lesson_url = a['href']\n",
    "                print(lesson_id, lesson_url)\n",
    "                lessons_u.append(lesson_url)\n",
    "           \n",
    "    print()\n",
    "    print('There are '+str(len(lessons_u)) + ' lesson titles available to check.')"
   ]
  },
  {
   "cell_type": "markdown",
   "metadata": {},
   "source": [
    "### Download Lecture Videos and Readings\n",
    "<img src=\"data:image/jpeg;base64,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\">\n",
    "\n",
    "See the progress of downloading lecture videos, readings and quizzes."
   ]
  },
  {
   "cell_type": "code",
   "execution_count": null,
   "metadata": {},
   "outputs": [],
   "source": [
    "os.chdir(initial_dirname)\n",
    "os.chdir(safe_text(course_title))\n",
    "lessons = zip(lessons_i, lessons_t, lessons_u)\n",
    "for a,b,c in lessons:\n",
    "    print(a,b)\n",
    "    first_word = b.split(' ')[0]\n",
    "    \n",
    "    if 'Lecture' in first_word:\n",
    "        check_mp4(a,b,c)\n",
    "        vtt_downloader(a,b,c)\n",
    "        print()\n",
    "        \n",
    "    elif 'Reading' in first_word:\n",
    "        check_html_reading(a, b, c)\n",
    "        print()\n",
    "    \n",
    "    else:\n",
    "        print('no resource to download.')\n",
    "        \n",
    "    print()\n",
    "print('Resources downloaded to:\\n'+os.getcwd())\n",
    "os.chdir(initial_dirname)"
   ]
  },
  {
   "cell_type": "markdown",
   "metadata": {},
   "source": [
    "### The Playlist\n",
    "<img src=\"data:image/png;base64,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\">"
   ]
  },
  {
   "cell_type": "code",
   "execution_count": null,
   "metadata": {},
   "outputs": [],
   "source": [
    "create_m3u_playlist(course_title)\n",
    "os.chdir(initial_dirname)"
   ]
  },
  {
   "cell_type": "markdown",
   "metadata": {},
   "source": [
    "### Download Quiz Only\n",
    "<img src='data:image/jpeg;base64,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' height='200' width='200'>"
   ]
  },
  {
   "cell_type": "code",
   "execution_count": null,
   "metadata": {},
   "outputs": [],
   "source": [
    "os.chdir(initial_dirname)\n",
    "os.chdir(safe_text(course_title))\n",
    "lessons = zip(lessons_i, lessons_t, lessons_u)\n",
    "for a,b,c in lessons:\n",
    "    print(a,b)\n",
    "    first_word = b.split(' ')[0]\n",
    "    \n",
    "    if ('Quiz' in first_word) or ('Practice Quiz' in b):\n",
    "        check_quiz(a, b, c)\n",
    "        print()\n",
    "    \n",
    "    else:\n",
    "        print('no quiz to download.')\n",
    "        \n",
    "    print()\n",
    "print('Resources downloaded to:\\n'+os.getcwd())\n",
    "os.chdir(initial_dirname)"
   ]
  },
  {
   "cell_type": "markdown",
   "metadata": {},
   "source": [
    "## <a name='#download'><b style=\"color:#3b5998\">D. Download Another Course?</b></a>\n",
    "\n",
    "<a href=\"#last-active-courses\">YES, Click Here</a> \n",
    "\n",
    "- then RUN the cells on LAST ACTIVE COURSES and continue to choose another course. \n",
    "- You may want to use your browser and open the corresponding course if the course is not seen the last active course list.\n",
    "\n",
    "<a href=\"#close\">NO, quit</a> \n",
    "\n",
    "- then RUN the cells with `browser.quit()` command."
   ]
  },
  {
   "cell_type": "markdown",
   "metadata": {},
   "source": [
    "##  <a name='error'><b style=\"color:#3b5998\">E. Error Checking</b></a>\n",
    "<img src=\"https://encrypted-tbn0.gstatic.com/images?q=tbn:ANd9GcQXcI6o52Fkp4wQV6fET12lDBZl1ZfqQpwdGP9265fpkVu3hc6k8Q\">"
   ]
  },
  {
   "cell_type": "markdown",
   "metadata": {},
   "source": [
    "### <b style=\"color:#3b5998\">(1) Current URL Checking</b>\n",
    "\n",
    "In case of an error, you may want to check the current URL and reload the current URL."
   ]
  },
  {
   "cell_type": "code",
   "execution_count": null,
   "metadata": {},
   "outputs": [],
   "source": [
    "browser.driver.current_url"
   ]
  },
  {
   "cell_type": "markdown",
   "metadata": {},
   "source": [
    "#### Reload Current URL"
   ]
  },
  {
   "cell_type": "code",
   "execution_count": null,
   "metadata": {},
   "outputs": [],
   "source": [
    "browser.visit(browser.driver.current_url)"
   ]
  },
  {
   "cell_type": "markdown",
   "metadata": {},
   "source": [
    "###  <b style=\"color:#3b5998\">(2) Current Screenshot Checking</b>\n",
    "\n",
    "In case of an error, you may also want to check the screenshot.\n",
    "\n",
    "If the screenshot is blank, then the page was not yet loaded into the browser. Please try again or check your network connection."
   ]
  },
  {
   "cell_type": "code",
   "execution_count": null,
   "metadata": {},
   "outputs": [],
   "source": [
    "screenshot()"
   ]
  },
  {
   "cell_type": "markdown",
   "metadata": {},
   "source": [
    "###  <b style=\"color:#3b5998\">(3) Manually Calling Downloader Functions</b>"
   ]
  },
  {
   "cell_type": "code",
   "execution_count": null,
   "metadata": {},
   "outputs": [],
   "source": [
    "resource_idx = {}\n",
    "lessons = zip(lessons_i, lessons_t, lessons_u)\n",
    "for a,b,c in lessons:\n",
    "    resource_idx[a] = {'title':b, 'url':c}\n",
    "\n",
    "# USER'S HELPER FUNCTIONS\n",
    "\n",
    "def quiz_download_by_id(idx):\n",
    "    a = idx\n",
    "    b = resource_idx[a]['title']\n",
    "    c = resource_idx[a]['url']\n",
    "    quiz_downloader(a, b, c)\n",
    "    \n",
    "def mp4_download_by_id(idx):\n",
    "    a = idx\n",
    "    b = resource_idx[a]['title']\n",
    "    c = resource_idx[a]['url']\n",
    "    mp4_downloader(a, b, c) \n",
    "    \n",
    "def html_download_by_id(idx):\n",
    "    a = idx\n",
    "    b = resource_idx[a]['title']\n",
    "    c = resource_idx[a]['url']\n",
    "    html_downloader(a, b, c)\n",
    "    \n",
    "def vtt_download_by_id(idx):\n",
    "    a = idx\n",
    "    b = resource_idx[a]['title']\n",
    "    c = resource_idx[a]['url']\n",
    "    vtt_downloader(a, b, c)"
   ]
  },
  {
   "cell_type": "markdown",
   "metadata": {},
   "source": [
    "### <b style=\"color:green\">Examples of Manually Calling Functions</b>\n",
    "<img src=\"https://images-na.ssl-images-amazon.com/images/I/41IRMu3-78L.jpg\">\n",
    "\n",
    "**`mp4_download_by_id`**\n",
    "\n",
    "Example usage:\n",
    "\n",
    "```\n",
    "mp4_download_by_id('103')\n",
    "```\n",
    "is equivalent to:\n",
    "\n",
    "**`mp4_downloader`** \n",
    "\n",
    "```\n",
    "mp4_downloader('103',\n",
    "               'Lecture Meet your lecturers',\n",
    "               '/learn/competitive-data-science/lecture/k0D2h/meet-your-lecturers')\n",
    "```\n",
    "`103` means week `1` sequence number `03` which is a lecture\n",
    "\n",
    "**`quiz_download_by_id`**\n",
    "```\n",
    "quiz_download_by_id('406')\n",
    "```\n",
    "is equivalent to:\n",
    "\n",
    "**`quiz_downloader`** \n",
    "\n",
    "```\n",
    "quiz_downloader('406',\n",
    "               'Practice Quiz Practice quiz', \n",
    "               '/learn/competitive-data-science/quiz/k7xTP/practice-quiz')\n",
    "```\n",
    "`406` means week `4` sequence number `06` which is a quiz"
   ]
  },
  {
   "cell_type": "code",
   "execution_count": null,
   "metadata": {},
   "outputs": [],
   "source": [
    "# Example usage, edit and uncomment as you wish\n",
    "#mp4_download_by_id('103')\n",
    "resource_idx['307']['url']"
   ]
  },
  {
   "cell_type": "markdown",
   "metadata": {},
   "source": [
    "## <a name=\"close\"> <b style=\"color:#3b5998\">F. Finally Close the Browser After Download</b></a>"
   ]
  },
  {
   "cell_type": "code",
   "execution_count": null,
   "metadata": {},
   "outputs": [],
   "source": [
    "browser.quit()\n",
    "os.chdir(initial_dirname)\n",
    "os.getcwd()"
   ]
  },
  {
   "cell_type": "markdown",
   "metadata": {},
   "source": [
    "## <a name='goodbye'><b style=\"color:#3b5998\">G. Good Bye</b></a>\n",
    "<img src=\"https://media.tenor.com/images/33c7bbf779e792d8a25ba1e5b80d8c9f/tenor.gif\">\n",
    "\n",
    "## <b style=\"color:#3b5998\">Going Back to Login?</b>\n",
    "Click <a href='#login'>here</a> to restart login.\n",
    "\n",
    "## <b style=\"color:#3b5998\">Going Back to Table of Contents?</b>\n",
    "Click <a href='#toc'>here</a> to go back to table of contents."
   ]
  },
  {
   "cell_type": "code",
   "execution_count": null,
   "metadata": {},
   "outputs": [],
   "source": []
  }
 ],
 "metadata": {
  "kernelspec": {
   "display_name": "Python 3",
   "language": "python",
   "name": "python3"
  },
  "language_info": {
   "codemirror_mode": {
    "name": "ipython",
    "version": 3
   },
   "file_extension": ".py",
   "mimetype": "text/x-python",
   "name": "python",
   "nbconvert_exporter": "python",
   "pygments_lexer": "ipython3",
   "version": "3.7.0"
  }
 },
 "nbformat": 4,
 "nbformat_minor": 2
}
